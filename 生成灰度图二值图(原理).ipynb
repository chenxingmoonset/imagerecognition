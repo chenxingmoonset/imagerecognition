{
 "cells": [
  {
   "cell_type": "code",
   "execution_count": 2,
   "id": "4a91e517",
   "metadata": {},
   "outputs": [],
   "source": [
    "import cv2 \n",
    "import numpy as np  \n",
    "\t  \n",
    "image = cv2.imread('C:/Users/beichen/dataset/meihuameat/2.jpg')  \n",
    "#读取图片像素高宽  \n",
    "sp = image.shape  \n",
    "height = sp[0]  \n",
    "width = sp[1]  \n",
    "#创建同样高宽的画布  \n",
    "new = np.zeros((height,width,3), np.uint8)  \n",
    "#遍历每个像素  \n",
    "#使用加权平均法算得灰度图  \n",
    "for i in range(height):   \n",
    "    for j in range(width):   \n",
    "        new[i,j] = 0.3 * image[i,j][0] + 0.59 * image[i,j][1] + 0.11 * image[i,j][2]   \n",
    "  \n",
    "cv2.namedWindow('Image')  \n",
    "cv2.imshow('Image', new)  \n",
    "\t  \n",
    "cv2.imwrite(\"C:/Users/beichen/dataset/greyimg/2.jpg\", new)  \n",
    "  \n",
    "cv2.waitKey(0) \n",
    "cv2.destroyAllWindows() \n",
    "img = new\n",
    "ret, binary = cv2.threshold(img,127,255, cv2.THRESH_BINARY_INV)"
   ]
  }
 ],
 "metadata": {
  "kernelspec": {
   "display_name": "Python 3 (ipykernel)",
   "language": "python",
   "name": "python3"
  },
  "language_info": {
   "codemirror_mode": {
    "name": "ipython",
    "version": 3
   },
   "file_extension": ".py",
   "mimetype": "text/x-python",
   "name": "python",
   "nbconvert_exporter": "python",
   "pygments_lexer": "ipython3",
   "version": "3.9.13"
  }
 },
 "nbformat": 4,
 "nbformat_minor": 5
}
