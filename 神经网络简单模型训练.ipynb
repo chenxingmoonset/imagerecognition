{
 "cells": [
  {
   "cell_type": "code",
   "execution_count": 1,
   "id": "6e6270f0",
   "metadata": {},
   "outputs": [
    {
     "name": "stdout",
     "output_type": "stream",
     "text": [
      "Files already downloaded and verified\n",
      "Files already downloaded and verified\n"
     ]
    },
    {
     "data": {
      "image/png": "[encoded data removed]",
      "text/plain": [
       "<Figure size 640x480 with 1 Axes>"
      ]
     },
     "metadata": {},
     "output_type": "display_data"
    },
    {
     "name": "stdout",
     "output_type": "stream",
     "text": [
      " ship bird frog ship\n"
     ]
    }
   ],
   "source": [
    "import torch\n",
    "import torchvision\n",
    "import torchvision.transforms as transforms\n",
    "import numpy as np\n",
    "import os\n",
    "os.environ[\"KMP_DUPLICATE_LIB_OK\"]=\"TRUE\"\n",
    "\n",
    "transform=transforms.Compose([transforms.ToTensor(),transforms.Normalize((0.5,0.5,0.5),(0.5,0.5,0.5))])\n",
    "\n",
    "trainset=torchvision.datasets.CIFAR10(root='./data',train=True,download=True,transform=transform)\n",
    "\n",
    "trainloader=torch.utils.data.DataLoader(trainset,batch_size=4,shuffle=True,num_workers=2)\n",
    "\n",
    "testset=torchvision.datasets.CIFAR10(root='./data',train=False,download=True,transform=transform)\n",
    "\n",
    "testloader=torch.utils.data.DataLoader(testset,batch_size=4,shuffle=False,num_workers=2)\n",
    "\n",
    "classes=('plane','car','bird','cat','deer','dog','frog','horse','ship','truck')\n",
    "\n",
    "\n",
    "import matplotlib.pyplot as plt\n",
    "\n",
    "#构建展示图片的函数\n",
    "def imshow(img):\n",
    "    img=img/2+0.5\n",
    "    npimg=img.numpy()\n",
    "    plt.imshow(np.transpose(npimg,(1,2,0)))\n",
    "    plt.show()\n",
    "\n",
    "#从数据迭代器中读取一张图片\n",
    "dataiter=iter(trainloader)\n",
    "images,labels=dataiter.next()\n",
    "\n",
    "#展示图片\n",
    "imshow(torchvision.utils.make_grid(images))\n",
    "#打印标签\n",
    "print(''.join('%5s'% classes[labels[j]] for j in range(4)))\n",
    "\n"
   ]
  },
  {
   "cell_type": "code",
   "execution_count": 2,
   "id": "36822e99",
   "metadata": {},
   "outputs": [
    {
     "name": "stdout",
     "output_type": "stream",
     "text": [
      "Net(\n",
      "  (conv1): Conv2d(3, 6, kernel_size=(5, 5), stride=(1, 1))\n",
      "  (conv2): Conv2d(6, 16, kernel_size=(5, 5), stride=(1, 1))\n",
      "  (pool): MaxPool2d(kernel_size=2, stride=2, padding=0, dilation=1, ceil_mode=False)\n",
      "  (fc1): Linear(in_features=400, out_features=120, bias=True)\n",
      "  (fc2): Linear(in_features=120, out_features=84, bias=True)\n",
      "  (fc3): Linear(in_features=84, out_features=10, bias=True)\n",
      ")\n"
     ]
    }
   ],
   "source": [
    "import torch.nn as nn\n",
    "import torch.nn.functional as F\n",
    "\n",
    "class Net(nn.Module):\n",
    "    def __init__(self):\n",
    "        super(Net,self).__init__()\n",
    "        #定义两个卷积层\n",
    "        self.conv1=nn.Conv2d(3,6,5)#有RGB的图片第一个参数channel应该为3,这里为了看size的变化才写1的\n",
    "        self.conv2=nn.Conv2d(6,16,5)\n",
    "        #定义池化层\n",
    "        self.pool=nn.MaxPool2d(2,2)\n",
    "        #定义三个全连接层\n",
    "        self.fc1=nn.Linear(16*5*5,120)\n",
    "        self.fc2=nn.Linear(120,84)\n",
    "        self.fc3=nn.Linear(84,10)\n",
    "\n",
    "    def forward(self,x):\n",
    "        x=self.pool(F.relu(self.conv1(x)))\n",
    "        x=self.pool(F.relu(self.conv2(x)))\n",
    "        #变换x的形状以适配全连接层的输入\n",
    "        x=x.view(-1,16*5*5)\n",
    "        x=F.relu(self.fc1(x))\n",
    "        x=F.relu(self.fc2(x))\n",
    "        x=self.fc3(x)\n",
    "\n",
    "        return x\n",
    "#input[1, 1, 32, 32]->conv1poll[1, 6, 14, 14]->conv2pool[1, 16, 5, 5]->view[1, 400]->linear1relu[1, 120]->linear2relu[1,84]->linear3relu[10]\n",
    "net=Net()\n",
    "print(net)\n",
    "\n",
    "import torch.optim as optim\n",
    "\n",
    "#定义损失函数，选用交叉熵损失函数\n",
    "criterion=nn.CrossEntropyLoss()\n",
    "#定义优化器，选用随机梯度下降的优化器\n",
    "#optimizer=optim.SGD(net.parameters(),lr=0.001,momentum=0.9)\n",
    "\n",
    "\n",
    "#改为选用adam优化算法\n",
    "# define the Adam optimizer\n",
    "optimizer = optim.Adam(net.parameters(), lr=0.001)"
   ]
  },
  {
   "cell_type": "code",
   "execution_count": 3,
   "id": "203170ea",
   "metadata": {},
   "outputs": [
    {
     "name": "stdout",
     "output_type": "stream",
     "text": [
      "[1, 2000] loss:1.874\n",
      "[1, 4000] loss:1.610\n",
      "[1, 6000] loss:1.528\n",
      "[1, 8000] loss:1.472\n",
      "[1,10000] loss:1.446\n",
      "[1,12000] loss:1.377\n",
      "[2, 2000] loss:1.324\n",
      "[2, 4000] loss:1.302\n",
      "[2, 6000] loss:1.319\n",
      "[2, 8000] loss:1.295\n",
      "[2,10000] loss:1.281\n",
      "[2,12000] loss:1.275\n",
      "[3, 2000] loss:1.187\n",
      "[3, 4000] loss:1.192\n",
      "[3, 6000] loss:1.209\n",
      "[3, 8000] loss:1.203\n",
      "[3,10000] loss:1.188\n",
      "[3,12000] loss:1.181\n",
      "[4, 2000] loss:1.097\n",
      "[4, 4000] loss:1.127\n",
      "[4, 6000] loss:1.135\n",
      "[4, 8000] loss:1.124\n",
      "[4,10000] loss:1.127\n",
      "[4,12000] loss:1.130\n",
      "[5, 2000] loss:1.068\n",
      "[5, 4000] loss:1.065\n",
      "[5, 6000] loss:1.064\n",
      "[5, 8000] loss:1.076\n",
      "[5,10000] loss:1.070\n",
      "[5,12000] loss:1.099\n",
      "[6, 2000] loss:1.009\n",
      "[6, 4000] loss:1.023\n",
      "[6, 6000] loss:1.040\n",
      "[6, 8000] loss:1.060\n",
      "[6,10000] loss:1.039\n",
      "[6,12000] loss:1.050\n",
      "[7, 2000] loss:0.974\n",
      "[7, 4000] loss:0.973\n",
      "[7, 6000] loss:0.981\n",
      "[7, 8000] loss:1.027\n",
      "[7,10000] loss:1.015\n",
      "[7,12000] loss:1.022\n",
      "[8, 2000] loss:0.918\n",
      "[8, 4000] loss:0.960\n",
      "[8, 6000] loss:0.952\n",
      "[8, 8000] loss:0.984\n",
      "[8,10000] loss:0.998\n",
      "[8,12000] loss:1.005\n",
      "[9, 2000] loss:0.894\n",
      "[9, 4000] loss:0.956\n",
      "[9, 6000] loss:0.953\n",
      "[9, 8000] loss:0.950\n",
      "[9,10000] loss:0.970\n",
      "[9,12000] loss:0.962\n",
      "[10, 2000] loss:0.883\n",
      "[10, 4000] loss:0.909\n",
      "[10, 6000] loss:0.919\n",
      "[10, 8000] loss:0.954\n",
      "[10,10000] loss:0.943\n",
      "[10,12000] loss:0.946\n",
      "Finished training\n"
     ]
    }
   ],
   "source": [
    "#编写训练集代码\n",
    "for epoch in range(10):\n",
    "    running_loss=0.0\n",
    "    #按批次迭代训练模型\n",
    "    for i,data in enumerate(trainloader,0):\n",
    "        #从data中去除含有输入图像的张量inputs，标签张量labels\n",
    "        inputs,labels=data\n",
    "        #第一步梯度清零\n",
    "        optimizer.zero_grad()\n",
    "        #第二步将输入图像进入网络中，得到输出张量\n",
    "        outputs=net(inputs)\n",
    "        #计算损失值\n",
    "        loss=criterion(outputs,labels)\n",
    "        #进行反向传播和梯度更新\n",
    "        loss.backward()\n",
    "        optimizer.step()\n",
    "\n",
    "        #打印训练的信息\n",
    "        running_loss+=loss.item()\n",
    "        if (i+1)%2000==0:\n",
    "            print('[%d,%5d] loss:%.3f'%(epoch+1,i+1,running_loss/2000))\n",
    "            running_loss=0.0\n",
    "\n",
    "print('Finished training')\n",
    "\n"
   ]
  },
  {
   "cell_type": "code",
   "execution_count": 4,
   "id": "5fbb34a4",
   "metadata": {},
   "outputs": [
    {
     "data": {
      "image/png": "[encoded data removed]",
      "text/plain": [
       "<Figure size 640x480 with 1 Axes>"
      ]
     },
     "metadata": {},
     "output_type": "display_data"
    },
    {
     "name": "stdout",
     "output_type": "stream",
     "text": [
      "GroundTruth   cat ship shipplane\n"
     ]
    },
    {
     "ename": "TypeError",
     "evalue": "%d format: a number is required, not str",
     "output_type": "error",
     "traceback": [
      "\u001b[1;31m---------------------------------------------------------------------------\u001b[0m",
      "\u001b[1;31mTypeError\u001b[0m                                 Traceback (most recent call last)",
      "\u001b[1;32m~\\AppData\\Local\\Temp\\ipykernel_15676\\650381273.py\u001b[0m in \u001b[0;36m<module>\u001b[1;34m\u001b[0m\n\u001b[0;32m     25\u001b[0m \u001b[1;33m\u001b[0m\u001b[0m\n\u001b[0;32m     26\u001b[0m \u001b[1;31m#打印预测标签\u001b[0m\u001b[1;33m\u001b[0m\u001b[1;33m\u001b[0m\u001b[0m\n\u001b[1;32m---> 27\u001b[1;33m \u001b[0mprint\u001b[0m\u001b[1;33m(\u001b[0m\u001b[1;34m'Predicted:'\u001b[0m\u001b[1;33m,\u001b[0m\u001b[1;34m''\u001b[0m\u001b[1;33m.\u001b[0m\u001b[0mjoin\u001b[0m\u001b[1;33m(\u001b[0m\u001b[1;34m'%5d'\u001b[0m\u001b[1;33m%\u001b[0m \u001b[0mclasses\u001b[0m\u001b[1;33m[\u001b[0m\u001b[0mpredicted\u001b[0m\u001b[1;33m[\u001b[0m\u001b[0mj\u001b[0m\u001b[1;33m]\u001b[0m\u001b[1;33m]\u001b[0m \u001b[1;32mfor\u001b[0m \u001b[0mj\u001b[0m \u001b[1;32min\u001b[0m \u001b[0mrange\u001b[0m\u001b[1;33m(\u001b[0m\u001b[1;36m4\u001b[0m\u001b[1;33m)\u001b[0m\u001b[1;33m)\u001b[0m\u001b[1;33m)\u001b[0m\u001b[1;33m\u001b[0m\u001b[1;33m\u001b[0m\u001b[0m\n\u001b[0m\u001b[0;32m     28\u001b[0m \u001b[1;33m\u001b[0m\u001b[0m\n",
      "\u001b[1;32m~\\AppData\\Local\\Temp\\ipykernel_15676\\650381273.py\u001b[0m in \u001b[0;36m<genexpr>\u001b[1;34m(.0)\u001b[0m\n\u001b[0;32m     25\u001b[0m \u001b[1;33m\u001b[0m\u001b[0m\n\u001b[0;32m     26\u001b[0m \u001b[1;31m#打印预测标签\u001b[0m\u001b[1;33m\u001b[0m\u001b[1;33m\u001b[0m\u001b[0m\n\u001b[1;32m---> 27\u001b[1;33m \u001b[0mprint\u001b[0m\u001b[1;33m(\u001b[0m\u001b[1;34m'Predicted:'\u001b[0m\u001b[1;33m,\u001b[0m\u001b[1;34m''\u001b[0m\u001b[1;33m.\u001b[0m\u001b[0mjoin\u001b[0m\u001b[1;33m(\u001b[0m\u001b[1;34m'%5d'\u001b[0m\u001b[1;33m%\u001b[0m \u001b[0mclasses\u001b[0m\u001b[1;33m[\u001b[0m\u001b[0mpredicted\u001b[0m\u001b[1;33m[\u001b[0m\u001b[0mj\u001b[0m\u001b[1;33m]\u001b[0m\u001b[1;33m]\u001b[0m \u001b[1;32mfor\u001b[0m \u001b[0mj\u001b[0m \u001b[1;32min\u001b[0m \u001b[0mrange\u001b[0m\u001b[1;33m(\u001b[0m\u001b[1;36m4\u001b[0m\u001b[1;33m)\u001b[0m\u001b[1;33m)\u001b[0m\u001b[1;33m)\u001b[0m\u001b[1;33m\u001b[0m\u001b[1;33m\u001b[0m\u001b[0m\n\u001b[0m\u001b[0;32m     28\u001b[0m \u001b[1;33m\u001b[0m\u001b[0m\n",
      "\u001b[1;31mTypeError\u001b[0m: %d format: a number is required, not str"
     ]
    }
   ],
   "source": [
    "#设定模型的保存位置\n",
    "PATH='./cifar_net.pth'\n",
    "#保存模型的状态字典\n",
    "torch.save(net.state_dict(),PATH)#***********************************************\n",
    "\n",
    "\n",
    "#在测试集中取出一个批次的数据，做图像和标签的展示\n",
    "dataiter=iter(testloader)\n",
    "images,labels=dataiter.next()\n",
    "\n",
    "#打印原始图片\n",
    "imshow(torchvision.utils.make_grid(images))\n",
    "#打印真实的标签\n",
    "print('GroundTruth',''.join('%5s'% classes[labels[j]] for j in range(4)))\n",
    "\n",
    "\n",
    "#加载模型参数，在测试阶段\n",
    "net.load_state_dict(torch.load(PATH))#*****************************************\n",
    "\n",
    "#利用模型对图片进行预测\n",
    "outputs=net(images)\n",
    "\n",
    "#模型有10个类别的输出，选取其中概率最大的那个类别作为预测值\n",
    "_,predicted=torch.max(outputs,1)\n",
    "\n",
    "#打印预测标签\n",
    "print('Predicted:',''.join('%5d'% classes[predicted[j]] for j in range(4)))\n",
    "\n"
   ]
  },
  {
   "cell_type": "code",
   "execution_count": 22,
   "id": "a4a6dc84",
   "metadata": {},
   "outputs": [
    {
     "name": "stdout",
     "output_type": "stream",
     "text": [
      "Accuracy of the network on the 10000 test images:61 %\n",
      "Accurary of plane : 65 %\n",
      "Accurary of   car : 70 %\n",
      "Accurary of  bird : 56 %\n",
      "Accurary of   cat : 46 %\n",
      "Accurary of  deer : 51 %\n",
      "Accurary of   dog : 52 %\n",
      "Accurary of  frog : 69 %\n",
      "Accurary of horse : 68 %\n",
      "Accurary of  ship : 71 %\n",
      "Accurary of truck : 67 %\n"
     ]
    }
   ],
   "source": [
    "#在这整个测试集上测试模型的准确率\n",
    "correct=0\n",
    "total=0\n",
    "with torch.no_grad():\n",
    "    for data in testloader:\n",
    "        images,labels=data\n",
    "        outputs=net(images)\n",
    "        _,predicted=torch.max(outputs.data,1)\n",
    "        total+=labels.size(0)\n",
    "        correct+=(predicted==labels).sum().item()\n",
    "\n",
    "print('Accuracy of the network on the 10000 test images:%d %%'%(100*correct/total))\n",
    "\n",
    "\n",
    "#分别测试不同类别的模型准确率\n",
    "class_correct=list(0. for i in range(10))\n",
    "class_total=list(0. for i in range(10))\n",
    "\n",
    "with torch.no_grad():\n",
    "    for data in testloader:\n",
    "        images,labels=data\n",
    "        outputs=net(images)\n",
    "        _,predicted=torch.max(outputs,1)\n",
    "        c=(predicted==labels).squeeze()\n",
    "        for i in range(4):\n",
    "            label=labels[i]\n",
    "            class_correct[label]+=c[i].item()\n",
    "            class_total[label]+=1\n",
    "\n",
    "#打印不同类别的准确率\n",
    "for i in range(10):\n",
    "    print('Accurary of %5s : %2d %%'% (classes[i],100*class_correct[i]/class_total[i]))\n",
    "\n"
   ]
  },
  {
   "cell_type": "code",
   "execution_count": 8,
   "id": "69d714ec",
   "metadata": {},
   "outputs": [
    {
     "name": "stdout",
     "output_type": "stream",
     "text": [
      "cuda:0\n"
     ]
    }
   ],
   "source": [
    "#在GPU上训练模型\n",
    "device=torch.device(\"cuda:0\" if torch.cuda.is_available() else \"cpu\")\n",
    "print(device)\n",
    "\n",
    "#将模型转移到GPU上\n",
    "net.to(device)\n",
    "\n",
    "#将输入的图片张量和标签张量转移到GPU上\n",
    "inputs,labels=data[0].to(device),data[1].to(device)\n",
    "\n"
   ]
  },
  {
   "cell_type": "code",
   "execution_count": null,
   "id": "321a8954",
   "metadata": {},
   "outputs": [],
   "source": []
  }
 ],
 "metadata": {
  "kernelspec": {
   "display_name": "Python 3 (ipykernel)",
   "language": "python",
   "name": "python3"
  },
  "language_info": {
   "codemirror_mode": {
    "name": "ipython",
    "version": 3
   },
   "file_extension": ".py",
   "mimetype": "text/x-python",
   "name": "python",
   "nbconvert_exporter": "python",
   "pygments_lexer": "ipython3",
   "version": "3.9.13"
  }
 },
 "nbformat": 4,
 "nbformat_minor": 5
}
